{
  "nbformat": 4,
  "nbformat_minor": 0,
  "metadata": {
    "accelerator": "GPU",
    "colab": {
      "name": "LipReadingWithAlexNet.ipynb",
      "provenance": [],
      "collapsed_sections": []
    },
    "kernelspec": {
      "display_name": "Python 3",
      "name": "python3"
    },
    "language_info": {
      "name": "python"
    }
  },
  "cells": [
    {
      "cell_type": "code",
      "metadata": {
        "id": "pCCFcafXis3Y",
        "colab": {
          "base_uri": "https://localhost:8080/"
        },
        "outputId": "5e2812bb-8e97-45ee-c193-c220b9e59f0a"
      },
      "source": [
        "from google.colab import drive\n",
        "drive.mount('/content/drive')"
      ],
      "execution_count": null,
      "outputs": [
        {
          "output_type": "stream",
          "name": "stdout",
          "text": [
            "Mounted at /content/drive\n"
          ]
        }
      ]
    },
    {
      "cell_type": "code",
      "metadata": {
        "id": "BSzDPnxJjTCi",
        "colab": {
          "base_uri": "https://localhost:8080/"
        },
        "outputId": "719d8c73-d8de-46bc-9a1e-0565bac23c1a"
      },
      "source": [
        "%cd /content/drive/MyDrive/Kuliah/Tugas_Akhir"
      ],
      "execution_count": null,
      "outputs": [
        {
          "output_type": "stream",
          "name": "stdout",
          "text": [
            "/content/drive/MyDrive/Kuliah/Tugas_Akhir\n"
          ]
        }
      ]
    },
    {
      "cell_type": "code",
      "metadata": {
        "id": "5GRSpfvSjU82"
      },
      "source": [
        "import numpy as np\n",
        "import tensorflow as tf\n",
        "import keras\n",
        "import os\n",
        "import cv2\n",
        "from tensorflow.keras.layers import Activation\n",
        "from tensorflow.keras.layers import Dropout\n",
        "from tensorflow.keras.layers import Dense\n",
        "from tensorflow.keras.layers import LSTM\n",
        "from tensorflow.keras.layers import Input\n",
        "from tensorflow.keras.layers import Flatten\n",
        "from tensorflow.keras.layers import TimeDistributed\n",
        "from tensorflow.keras import applications\n",
        "from tensorflow.keras import optimizers\n",
        "from tensorflow.keras.models import Model\n",
        "from tensorflow.keras.models import load_model\n",
        "from tensorflow.keras.optimizers import SGD\n",
        "from tensorflow.keras.regularizers import l2\n",
        "from tensorflow.keras.layers import *\n",
        "from tensorflow.keras.models import Sequential\n",
        "from tensorflow.keras.utils import to_categorical\n",
        "from tensorflow.keras.callbacks import EarlyStopping\n",
        "from tensorflow.keras.utils import plot_model\n",
        "np.random.seed(3)"
      ],
      "execution_count": null,
      "outputs": []
    },
    {
      "cell_type": "code",
      "metadata": {
        "id": "Uz9n77YajpEW"
      },
      "source": [
        "timesteps = 20\n",
        "n_labels = 4\n",
        "batch_size = 16 #dicoba batch size 32 sama 64\n",
        "validation_ratio = 0.2 #dicoba validation rate 20%\n",
        "num_epochs = 50\n",
        "img_col = 224\n",
        "img_row = 224\n",
        "img_channel = 3\n",
        "# Specify the list containing the names of the classes used for training. Feel free to choose any set of classes.\n",
        "CLASSES_LIST = [\"Membuka Kertas Contekan\", \"Membuka Smartphone\", \"Bertukar kertas jawaban\", \"Melihat Kertas Jawaban Teman\"]"
      ],
      "execution_count": null,
      "outputs": []
    },
    {
      "cell_type": "code",
      "metadata": {
        "colab": {
          "base_uri": "https://localhost:8080/"
        },
        "id": "0UtnUHm6kI-v",
        "outputId": "04b4a91a-f5f7-479a-d518-5b52eb5ecee2"
      },
      "source": [
        "# 1. Creating Datasets\n",
        "# define temporary empty list for load\n",
        "data = []\n",
        "label = []\n",
        "Totalnb = 0\n",
        "\n",
        "# Load Dataset\n",
        "for i in range(n_labels):\n",
        "    nb = 0\n",
        "    # Counting datasets in each labels\n",
        "    for root, dirs, files in os.walk('Progress/DataLatihBaru/' + str(i+1)): # set directory\n",
        "        for name in dirs:\n",
        "            nb = nb + 1\n",
        "    print(i,\"Label number of Dataset is:\",nb)\n",
        "    Totalnb = Totalnb + nb\n",
        "    # by Counting size, cross subfolder and read image data, resize image, and append list \n",
        "    for j in range(nb):\n",
        "        temp = []\n",
        "        for k in range(timesteps):\n",
        "            # name = 'NormalizedCascaded/' + str(i+1) + '/' + str(j+1) + '/' + str(k+1) + '.jpg'\n",
        "            name = 'Progress/DataLatihBaru/' + str(i+1) + '/' + str(j+1) + '/' + 'a (' + str(k+1) + ')' + '.jpg'\n",
        "            img = cv2.imread(name)\n",
        "            res = cv2.resize(img, dsize=(img_col, img_row), interpolation=cv2.INTER_CUBIC)\n",
        "            temp.append(res)\n",
        "        label.append(i)        \n",
        "        data.append(temp)\n",
        "print(\"Total Number of Data is\",Totalnb)\n",
        "\n",
        "# Convert List to numpy array, for Keras use\n",
        "Train_label = np.eye(n_labels)[label] # One-hot encoding by np array function\n",
        "Train_data = np.array(data)\n",
        "print(\"Dataset shape is\",Train_data.shape, \"(size, timestep, column, row, channel)\")\n",
        "print(\"Label shape is\",Train_label.shape,\"(size, label onehot vector)\")"
      ],
      "execution_count": null,
      "outputs": [
        {
          "output_type": "stream",
          "name": "stdout",
          "text": [
            "0 Label number of Dataset is: 106\n",
            "1 Label number of Dataset is: 104\n",
            "2 Label number of Dataset is: 34\n",
            "3 Label number of Dataset is: 93\n",
            "Total Number of Data is 337\n",
            "Dataset shape is (337, 20, 224, 224, 3) (size, timestep, column, row, channel)\n",
            "Label shape is (337, 4) (size, label onehot vector)\n"
          ]
        }
      ]
    },
    {
      "cell_type": "code",
      "metadata": {
        "id": "BDmU1h07BQmB"
      },
      "source": [
        "# shuffling dataset for input fit function\n",
        "# if don`t, can`t train model entirely\n",
        "x = np.arange(Train_label.shape[0])\n",
        "np.random.shuffle(x)\n",
        "# same order shuffle is needed\n",
        "Train_label = Train_label[x]\n",
        "Train_data = Train_data[x]\n",
        "\n",
        "train_size = 0.9\n",
        "X_train=Train_data[:int(Totalnb * 0.9),:]\n",
        "Y_train=Train_label[:int(Totalnb * 0.9)]\n",
        "X_test=Train_data[int(Totalnb * 0.1):,:]\n",
        "Y_test=Train_label[int(Totalnb * 0.1):]"
      ],
      "execution_count": null,
      "outputs": []
    },
    {
      "cell_type": "code",
      "metadata": {
        "id": "FgfjM0tfQCRQ",
        "colab": {
          "base_uri": "https://localhost:8080/"
        },
        "outputId": "492b3694-3cd7-4298-9b05-c87ead1db1cf"
      },
      "source": [
        "# 2. Buliding a Model\n",
        "# declare input layer for CNN+LSTM architecture\n",
        "video = Input(shape=(timesteps,img_col,img_row,img_channel))\n",
        "STEPS_PER_EPOCH = 120\n",
        "#AlexNet Layer\n",
        "model = tf.keras.models.Sequential([\n",
        "    # 1st conv\n",
        "  tf.keras.layers.Conv2D(96, (11,11),strides=(4,4), activation='relu', input_shape=(img_col, img_row, img_channel)),\n",
        "  tf.keras.layers.BatchNormalization(),\n",
        "  tf.keras.layers.MaxPooling2D(2, strides=(2,2)),\n",
        "    # 2nd conv\n",
        "  tf.keras.layers.Conv2D(256, (5,5),strides=(1,1), activation='relu',padding=\"same\"),\n",
        "  tf.keras.layers.BatchNormalization(),\n",
        "  tf.keras.layers.MaxPooling2D(2, strides=(2,2)),\n",
        "     # 3rd conv\n",
        "  tf.keras.layers.Conv2D(384, (3,3),strides=(1,1), activation='relu',padding=\"same\"),\n",
        "  tf.keras.layers.BatchNormalization(),\n",
        "    # 4th conv\n",
        "  tf.keras.layers.Conv2D(384, (3,3),strides=(1,1), activation='relu',padding=\"same\"),\n",
        "  tf.keras.layers.BatchNormalization(),\n",
        "    # 5th Conv\n",
        "  tf.keras.layers.Conv2D(256, (3,3), strides=(1, 1), activation='relu',padding=\"same\"),\n",
        "  tf.keras.layers.BatchNormalization(),\n",
        "  tf.keras.layers.MaxPooling2D(2, strides=(2,2)),\n",
        "])\n",
        "# model.trainable = False\n",
        "# FC Dense Layer\n",
        "x = model.output\n",
        "x = Flatten()(x)\n",
        "fcl1 = Dense(4096)(x)\n",
        "fcl2 = Dense(4096)(fcl1)\n",
        "cnn_out = Dense(1000)(fcl2)\n",
        "# Construct CNN model \n",
        "Lstm_inp = Model(model.input, cnn_out)\n",
        "# Distribute CNN output by timesteps \n",
        "encoded_frames = TimeDistributed(Lstm_inp)(video)\n",
        "# Contruct LSTM model \n",
        "encoded_sequence = LSTM(256)(encoded_frames)\n",
        "hidden_Drop = Dropout(0.2)(encoded_sequence)\n",
        "hidden_layer = Dense(128)(hidden_Drop)\n",
        "outputs = Dense(n_labels, activation=\"softmax\")(hidden_layer)\n",
        "# Contruct CNN+LSTM model \n",
        "model = Model([video], outputs)\n",
        "# 3. Setting up the Model Learning Process\n",
        "# Model Compile \n",
        "opt = SGD(lr=0.001)\n",
        "model.compile(loss = \"categorical_crossentropy\", optimizer = opt, metrics=['accuracy'])\n",
        "model.summary()\n",
        "# 4. Training the Model\n",
        "hist = model.fit(X_train, Y_train, batch_size=batch_size, validation_split=validation_ratio, shuffle=True, epochs=num_epochs)\n",
        "\n"
      ],
      "execution_count": null,
      "outputs": [
        {
          "output_type": "stream",
          "name": "stderr",
          "text": [
            "/usr/local/lib/python3.7/dist-packages/keras/optimizer_v2/gradient_descent.py:102: UserWarning: The `lr` argument is deprecated, use `learning_rate` instead.\n",
            "  super(SGD, self).__init__(name, **kwargs)\n"
          ]
        },
        {
          "output_type": "stream",
          "name": "stdout",
          "text": [
            "Model: \"model_1\"\n",
            "_________________________________________________________________\n",
            " Layer (type)                Output Shape              Param #   \n",
            "=================================================================\n",
            " input_1 (InputLayer)        [(None, 20, 224, 224, 3)  0         \n",
            "                             ]                                   \n",
            "                                                                 \n",
            " time_distributed (TimeDistr  (None, 20, 128)          3568064   \n",
            " ibuted)                                                         \n",
            "                                                                 \n",
            " lstm (LSTM)                 (None, 256)               394240    \n",
            "                                                                 \n",
            " dropout (Dropout)           (None, 256)               0         \n",
            "                                                                 \n",
            " dense_1 (Dense)             (None, 128)               32896     \n",
            "                                                                 \n",
            " dense_2 (Dense)             (None, 4)                 516       \n",
            "                                                                 \n",
            "=================================================================\n",
            "Total params: 3,995,716\n",
            "Trainable params: 3,993,484\n",
            "Non-trainable params: 2,232\n",
            "_________________________________________________________________\n",
            "Epoch 1/50\n",
            "16/16 [==============================] - 28s 586ms/step - loss: 1.2077 - accuracy: 0.4669 - val_loss: 1.6444 - val_accuracy: 0.2623\n",
            "Epoch 2/50\n",
            "16/16 [==============================] - 5s 305ms/step - loss: 0.9779 - accuracy: 0.6405 - val_loss: 1.3056 - val_accuracy: 0.3443\n",
            "Epoch 3/50\n",
            "16/16 [==============================] - 5s 328ms/step - loss: 0.7684 - accuracy: 0.7479 - val_loss: 1.4855 - val_accuracy: 0.2951\n",
            "Epoch 4/50\n",
            "16/16 [==============================] - 5s 306ms/step - loss: 0.5518 - accuracy: 0.8430 - val_loss: 1.1422 - val_accuracy: 0.5410\n",
            "Epoch 5/50\n",
            "16/16 [==============================] - 5s 308ms/step - loss: 0.3755 - accuracy: 0.9174 - val_loss: 1.3396 - val_accuracy: 0.4426\n",
            "Epoch 6/50\n",
            "16/16 [==============================] - 5s 310ms/step - loss: 0.3892 - accuracy: 0.9008 - val_loss: 0.8930 - val_accuracy: 0.6066\n",
            "Epoch 7/50\n",
            "16/16 [==============================] - 5s 310ms/step - loss: 0.3188 - accuracy: 0.9132 - val_loss: 0.7188 - val_accuracy: 0.7541\n",
            "Epoch 8/50\n",
            "16/16 [==============================] - 5s 314ms/step - loss: 0.2245 - accuracy: 0.9463 - val_loss: 0.8257 - val_accuracy: 0.6557\n",
            "Epoch 9/50\n",
            "16/16 [==============================] - 5s 316ms/step - loss: 0.2089 - accuracy: 0.9463 - val_loss: 0.5362 - val_accuracy: 0.7869\n",
            "Epoch 10/50\n",
            "16/16 [==============================] - 5s 314ms/step - loss: 0.1724 - accuracy: 0.9587 - val_loss: 0.9935 - val_accuracy: 0.6557\n",
            "Epoch 11/50\n",
            "16/16 [==============================] - 5s 317ms/step - loss: 0.2305 - accuracy: 0.9463 - val_loss: 0.4542 - val_accuracy: 0.8689\n",
            "Epoch 12/50\n",
            "16/16 [==============================] - 5s 318ms/step - loss: 0.1531 - accuracy: 0.9587 - val_loss: 0.4537 - val_accuracy: 0.8689\n",
            "Epoch 13/50\n",
            "16/16 [==============================] - 5s 319ms/step - loss: 0.1256 - accuracy: 0.9669 - val_loss: 0.4357 - val_accuracy: 0.8361\n",
            "Epoch 14/50\n",
            "16/16 [==============================] - 5s 321ms/step - loss: 0.1232 - accuracy: 0.9669 - val_loss: 0.3482 - val_accuracy: 0.8852\n",
            "Epoch 15/50\n",
            "16/16 [==============================] - 5s 322ms/step - loss: 0.1094 - accuracy: 0.9669 - val_loss: 0.3159 - val_accuracy: 0.8852\n",
            "Epoch 16/50\n",
            "16/16 [==============================] - 5s 326ms/step - loss: 0.1085 - accuracy: 0.9669 - val_loss: 0.3391 - val_accuracy: 0.8689\n",
            "Epoch 17/50\n",
            "16/16 [==============================] - 5s 329ms/step - loss: 0.0994 - accuracy: 0.9752 - val_loss: 0.3133 - val_accuracy: 0.8852\n",
            "Epoch 18/50\n",
            "16/16 [==============================] - 5s 331ms/step - loss: 0.0917 - accuracy: 0.9711 - val_loss: 0.3021 - val_accuracy: 0.9016\n",
            "Epoch 19/50\n",
            "16/16 [==============================] - 5s 331ms/step - loss: 0.0885 - accuracy: 0.9793 - val_loss: 0.2997 - val_accuracy: 0.8852\n",
            "Epoch 20/50\n",
            "16/16 [==============================] - 5s 331ms/step - loss: 0.0846 - accuracy: 0.9835 - val_loss: 0.4756 - val_accuracy: 0.8689\n",
            "Epoch 21/50\n",
            "16/16 [==============================] - 5s 338ms/step - loss: 0.1081 - accuracy: 0.9628 - val_loss: 0.2964 - val_accuracy: 0.8852\n",
            "Epoch 22/50\n",
            "16/16 [==============================] - 5s 341ms/step - loss: 0.0806 - accuracy: 0.9835 - val_loss: 0.2943 - val_accuracy: 0.8852\n",
            "Epoch 23/50\n",
            "16/16 [==============================] - 6s 345ms/step - loss: 0.0764 - accuracy: 0.9793 - val_loss: 0.2433 - val_accuracy: 0.9016\n",
            "Epoch 24/50\n",
            "16/16 [==============================] - 6s 349ms/step - loss: 0.0742 - accuracy: 0.9835 - val_loss: 0.3883 - val_accuracy: 0.8689\n",
            "Epoch 25/50\n",
            "16/16 [==============================] - 6s 349ms/step - loss: 0.0793 - accuracy: 0.9835 - val_loss: 0.2461 - val_accuracy: 0.8852\n",
            "Epoch 26/50\n",
            "16/16 [==============================] - 6s 349ms/step - loss: 0.0712 - accuracy: 0.9752 - val_loss: 0.2467 - val_accuracy: 0.9016\n",
            "Epoch 27/50\n",
            "16/16 [==============================] - 5s 342ms/step - loss: 0.0597 - accuracy: 0.9835 - val_loss: 0.2453 - val_accuracy: 0.9016\n",
            "Epoch 28/50\n",
            "16/16 [==============================] - 5s 341ms/step - loss: 0.0591 - accuracy: 0.9835 - val_loss: 0.2806 - val_accuracy: 0.9180\n",
            "Epoch 29/50\n",
            "16/16 [==============================] - 5s 337ms/step - loss: 0.0615 - accuracy: 0.9876 - val_loss: 0.3580 - val_accuracy: 0.8852\n",
            "Epoch 30/50\n",
            "16/16 [==============================] - 5s 333ms/step - loss: 0.0691 - accuracy: 0.9876 - val_loss: 0.2522 - val_accuracy: 0.9344\n",
            "Epoch 31/50\n",
            "16/16 [==============================] - 5s 335ms/step - loss: 0.0593 - accuracy: 0.9917 - val_loss: 0.2234 - val_accuracy: 0.9016\n",
            "Epoch 32/50\n",
            "16/16 [==============================] - 5s 330ms/step - loss: 0.0524 - accuracy: 0.9876 - val_loss: 0.2464 - val_accuracy: 0.9180\n",
            "Epoch 33/50\n",
            "16/16 [==============================] - 5s 333ms/step - loss: 0.0559 - accuracy: 0.9876 - val_loss: 0.2286 - val_accuracy: 0.9180\n",
            "Epoch 34/50\n",
            "16/16 [==============================] - 5s 332ms/step - loss: 0.0483 - accuracy: 0.9876 - val_loss: 0.2981 - val_accuracy: 0.9016\n",
            "Epoch 35/50\n",
            "16/16 [==============================] - 5s 333ms/step - loss: 0.0443 - accuracy: 0.9959 - val_loss: 0.2562 - val_accuracy: 0.9016\n",
            "Epoch 36/50\n",
            "16/16 [==============================] - 5s 335ms/step - loss: 0.0391 - accuracy: 0.9917 - val_loss: 0.2445 - val_accuracy: 0.9180\n",
            "Epoch 37/50\n",
            "16/16 [==============================] - 5s 335ms/step - loss: 0.0387 - accuracy: 0.9959 - val_loss: 0.2854 - val_accuracy: 0.8852\n",
            "Epoch 38/50\n",
            "16/16 [==============================] - 5s 339ms/step - loss: 0.0469 - accuracy: 0.9917 - val_loss: 0.2325 - val_accuracy: 0.9180\n",
            "Epoch 39/50\n",
            "16/16 [==============================] - 5s 339ms/step - loss: 0.0411 - accuracy: 0.9959 - val_loss: 0.2392 - val_accuracy: 0.9180\n",
            "Epoch 40/50\n",
            "16/16 [==============================] - 5s 341ms/step - loss: 0.0395 - accuracy: 0.9959 - val_loss: 0.2355 - val_accuracy: 0.9180\n",
            "Epoch 41/50\n",
            "16/16 [==============================] - 5s 342ms/step - loss: 0.0332 - accuracy: 0.9959 - val_loss: 0.2290 - val_accuracy: 0.9180\n",
            "Epoch 42/50\n",
            "16/16 [==============================] - 5s 341ms/step - loss: 0.0288 - accuracy: 1.0000 - val_loss: 0.2282 - val_accuracy: 0.9180\n",
            "Epoch 43/50\n",
            "16/16 [==============================] - 5s 340ms/step - loss: 0.0326 - accuracy: 0.9959 - val_loss: 0.2104 - val_accuracy: 0.9180\n",
            "Epoch 44/50\n",
            "16/16 [==============================] - 5s 340ms/step - loss: 0.0290 - accuracy: 0.9959 - val_loss: 0.2244 - val_accuracy: 0.9016\n",
            "Epoch 45/50\n",
            "16/16 [==============================] - 5s 337ms/step - loss: 0.0299 - accuracy: 0.9959 - val_loss: 0.2118 - val_accuracy: 0.9180\n",
            "Epoch 46/50\n",
            "16/16 [==============================] - 5s 339ms/step - loss: 0.0326 - accuracy: 0.9959 - val_loss: 0.1976 - val_accuracy: 0.9180\n",
            "Epoch 47/50\n",
            "16/16 [==============================] - 5s 337ms/step - loss: 0.0352 - accuracy: 0.9959 - val_loss: 0.3502 - val_accuracy: 0.8852\n",
            "Epoch 48/50\n",
            "16/16 [==============================] - 5s 338ms/step - loss: 0.0527 - accuracy: 0.9917 - val_loss: 0.2313 - val_accuracy: 0.9016\n",
            "Epoch 49/50\n",
            "16/16 [==============================] - 5s 340ms/step - loss: 0.0384 - accuracy: 1.0000 - val_loss: 0.2395 - val_accuracy: 0.9016\n",
            "Epoch 50/50\n",
            "16/16 [==============================] - 5s 339ms/step - loss: 0.0366 - accuracy: 0.9917 - val_loss: 0.2642 - val_accuracy: 0.8852\n"
          ]
        }
      ]
    },
    {
      "cell_type": "code",
      "metadata": {
        "id": "J6jkH0IVtzi9",
        "colab": {
          "base_uri": "https://localhost:8080/",
          "height": 526
        },
        "outputId": "e7a62613-ecd1-4aaa-e717-ec142fb7a22c"
      },
      "source": [
        "Y_pred2 = model.predict(X_test)\n",
        "y_pred= np.argmax(Y_pred2, axis=1) # prediksi\n",
        "Y_test = np.argmax(Y_test, axis=1)\n",
        "from sklearn.metrics import confusion_matrix\n",
        "confusion_matrix(Y_test, y_pred) \n",
        "import seaborn as sns\n",
        "import matplotlib.pyplot as plt\n",
        "f, ax = plt.subplots(figsize=(8,5))\n",
        "sns.heatmap(confusion_matrix(Y_test, y_pred), annot=True, fmt=\".0f\", ax=ax)\n",
        "plt.xlabel(\"Y_head\")\n",
        "plt.ylabel(\"Y_true\")\n",
        "plt.show()\n",
        "from sklearn.metrics import classification_report\n",
        "print(classification_report(Y_test, y_pred))"
      ],
      "execution_count": null,
      "outputs": [
        {
          "output_type": "display_data",
          "data": {
            "image/png": "[encoded data removed]",
            "text/plain": [
              "<Figure size 576x360 with 2 Axes>"
            ]
          },
          "metadata": {
            "needs_background": "light"
          }
        },
        {
          "output_type": "stream",
          "name": "stdout",
          "text": [
            "              precision    recall  f1-score   support\n",
            "\n",
            "           0       0.96      0.97      0.96        93\n",
            "           1       0.99      0.96      0.97        99\n",
            "           2       0.83      0.94      0.88        32\n",
            "           3       0.97      0.95      0.96        80\n",
            "\n",
            "    accuracy                           0.96       304\n",
            "   macro avg       0.94      0.95      0.95       304\n",
            "weighted avg       0.96      0.96      0.96       304\n",
            "\n"
          ]
        }
      ]
    },
    {
      "cell_type": "code",
      "metadata": {
        "id": "dhUN2ecje7AV",
        "colab": {
          "base_uri": "https://localhost:8080/",
          "height": 279
        },
        "outputId": "1b5512d1-291d-4da8-c770-7e36159c68cd"
      },
      "source": [
        "# 5. Confirm the Learning Process\n",
        "%matplotlib inline \n",
        "import matplotlib.pyplot as plt\n",
        "fig, loss_ax = plt.subplots()\n",
        "acc_ax = loss_ax.twinx()\n",
        "loss_ax.plot(hist.history['loss'], 'y', label='train loss')  \n",
        "loss_ax.plot(hist.history['val_loss'], 'r', label='val loss')\n",
        "acc_ax.plot(hist.history['accuracy'], 'b', label='train acc')  \n",
        "acc_ax.plot(hist.history['val_accuracy'], 'g', label='val acc')\n",
        "loss_ax.set_xlabel('epoch')\n",
        "loss_ax.set_ylabel('loss')\n",
        "acc_ax.set_ylabel('accuray')\n",
        "loss_ax.legend(loc='upper left')\n",
        "acc_ax.legend(loc='lower left')\n",
        "plt.show()"
      ],
      "execution_count": null,
      "outputs": [
        {
          "output_type": "display_data",
          "data": {
            "image/png": "[encoded data removed]",
            "text/plain": [
              "<Figure size 432x288 with 2 Axes>"
            ]
          },
          "metadata": {
            "needs_background": "light"
          }
        }
      ]
    },
    {
      "cell_type": "code",
      "metadata": {
        "id": "vDjSZdgsfDF4"
      },
      "source": [
        "# 6. Using the Model\n",
        "model.save('testNilaiLayerBaru1E-3_16B.h5')"
      ],
      "execution_count": null,
      "outputs": []
    },
    {
      "cell_type": "code",
      "metadata": {
        "id": "6FBOq7fvx5p6"
      },
      "source": [
        ""
      ],
      "execution_count": null,
      "outputs": []
    },
    {
      "cell_type": "code",
      "metadata": {
        "id": "46MvBb9u4VqS"
      },
      "source": [
        "\n",
        "# # 7. Using the Model on Other Dataset\n",
        "# # Load keras package needed\n",
        "# import numpy as np\n",
        "# import tensorflow as tf\n",
        "# import keras\n",
        "# import numpy as np\n",
        "# from numpy import argmax\n",
        "# import os\n",
        "# import cv2\n",
        "# from keras.utils import np_utils\n",
        "# from keras.models import Sequential, Model, load_model\n",
        "# from keras.preprocessing import image as image_utils"
      ],
      "execution_count": null,
      "outputs": []
    },
    {
      "cell_type": "code",
      "metadata": {
        "id": "_AK0k3JH4fNK"
      },
      "source": [
        "# model = load_model('CCTV_10Frame_SGD_Model_1e4_b16_regul2_Dropout.h5')"
      ],
      "execution_count": null,
      "outputs": []
    },
    {
      "cell_type": "code",
      "metadata": {
        "id": "jwAJN47q4k8a"
      },
      "source": [
        "# data = []\n",
        "# label = []\n",
        "# n_labels = 5\n",
        "# Totalnb = 0\n",
        "# data_nb = [0,0,0,0,0]\n",
        "\n",
        "# # Load Dataset\n",
        "# for i in range(5):\n",
        "#     nb = 0\n",
        "#     for root, dirs, files in os.walk('Normalized CascadeTest/' + str(i+1)):  # set directory\n",
        "#         for name in dirs:\n",
        "#             nb = nb + 1\n",
        "#     print(i,\"Label number of Dataset is:\",nb)\n",
        "#     Totalnb = Totalnb + nb\n",
        "#     data_nb[i] = data_nb[i] + nb\n",
        "#     for j in range(nb-1):\n",
        "#         temp = []\n",
        "#         for k in range(10):\n",
        "#             name = 'Normalized CascadeTest/' + str(i+1) + '/' + str(j+1) + '/' + 'a (' + str(k+1) + ')' + '.jpg'\n",
        "#             img = cv2.imread(name)\n",
        "#             res = cv2.resize(img, dsize=(img_col, img_row), interpolation=cv2.INTER_CUBIC)\n",
        "#             temp.append(res)\n",
        "#         label.append(i)        \n",
        "#         data.append(temp)\n",
        "# print(\"Total Number of Data is\",Totalnb)\n",
        "# Train_label = np.eye(n_labels)[label]\n",
        "# Train_data = np.array(data)"
      ],
      "execution_count": null,
      "outputs": []
    },
    {
      "cell_type": "code",
      "metadata": {
        "id": "w_iznxLl6v7y"
      },
      "source": [
        "# x = np.arange(Train_label.shape[0])\n",
        "# np.random.shuffle(x)\n",
        "# Train_label = Train_label[x]\n",
        "# Train_data = Train_data[x]"
      ],
      "execution_count": null,
      "outputs": []
    },
    {
      "cell_type": "code",
      "metadata": {
        "id": "8lN18HQ66_35"
      },
      "source": [
        "# npp = 0\n",
        "# n0 = 0\n",
        "# n1 = 0\n",
        "# n2 = 0\n",
        "# n3 = 0\n",
        "# n4 = 0\n",
        "\n",
        "\n",
        "# for i in range(Train_label.shape[0]):\n",
        "#     # Test model by each image timesteps\n",
        "#     Train_dataOne = Train_data[i]\n",
        "#     Train_dataOne = np.expand_dims(Train_dataOne, axis=0)\n",
        "#     # Use model class probability\n",
        "#     Y_data = model.predict(Train_dataOne, batch_size = 1)\n",
        "#     # Use model class\n",
        "#     y_classes = Y_data.argmax(axis=-1)\n",
        "#     # print result predicted class / model input label ( One_hot Code )\n",
        "#     print(y_classes, Train_label[i])\n",
        "#     if (Train_label[i][y_classes] == 1):\n",
        "#         npp = npp + 1\n",
        "#         if (y_classes == 0):\n",
        "#             n0 = n0 + 1\n",
        "#         if (y_classes == 1):\n",
        "#             n1 = n1 + 1\n",
        "#         if (y_classes == 2):\n",
        "#             n2 = n2 + 1\n",
        "#         if (y_classes == 3):\n",
        "#             n3 = n3 + 1\n",
        "#         if (y_classes == 4):\n",
        "#             n4 = n4 + 1\n",
        "#         if (y_classes == 5):\n",
        "#             n5 = n5 + 1\n",
        "#         if (y_classes == 6):\n",
        "#             n6 = n6 + 1\n",
        "#         if (y_classes == 7):\n",
        "#             n7 = n7 + 1\n",
        "\n",
        "# # print Total Result\n",
        "# print(\"Number of correct answers is\", npp,\"into\", 96, \"Test Acc is\",npp/96)\n",
        "# print(\"Number of correct answers for each classes is \",n0,n1,n2,n3,n4)\n",
        "# print(\"Accuary of each classes is \",n0/data_nb[0],n1/data_nb[1],n2/data_nb[2],n3/data_nb[3],n4/data_nb[4])"
      ],
      "execution_count": null,
      "outputs": []
    },
    {
      "cell_type": "code",
      "metadata": {
        "id": "2sxwTqdjB5hQ"
      },
      "source": [
        "# #Loading the saved model\n",
        "# new_model = tf.keras.models.load_model(\"CCTV_10Frame_Model.h5\")\n",
        "# new_model.summary()\n",
        "# loss, acc = new_model.evaluate(Train_data)\n",
        "# print(\"accuracy:{:.2f}%\".format(acc*100))"
      ],
      "execution_count": null,
      "outputs": []
    }
  ]
}